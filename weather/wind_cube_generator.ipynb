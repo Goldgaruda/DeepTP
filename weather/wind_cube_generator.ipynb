{
 "cells": [
  {
   "cell_type": "code",
   "execution_count": 3,
   "metadata": {},
   "outputs": [],
   "source": [
    "import pygrib\n",
    "import numpy as np"
   ]
  },
  {
   "cell_type": "code",
   "execution_count": 7,
   "metadata": {},
   "outputs": [],
   "source": [
    "global llat, ulat,llon,rlon\n",
    "def CreateGrid(lon, lat, offside = 1,nx = 20, ny = 20):\n",
    "    # offside is in the unit of degrees\n",
    "    x = np.linspace(lon - offside, lon + offside, nx)\n",
    "    y = np.linspace(lat - offside, lat + offside, ny)\n",
    "    xv, yv = np.meshgrid(x, y, sparse = False)\n",
    "    Grid2D = np.vstack((xv.flatten(),yv.flatten())).T\n",
    "    # [Lon, Lat]\n",
    "    return Grid2D\n",
    "\n",
    "def GetIMG(lat, lon, lvl, Tree_Dict, WindClass, N_Pt = 20):\n",
    "    Winds = WindClass.winds\n",
    "    Grid = CreateGrid(lat, lon, offside = 1, nx = N_Pt, ny = N_Pt) # Lat, Lon\n",
    "    try:\n",
    "        QueryIdx1 = Tree_Dict[lvl].query(Grid)[1]  # base levels\n",
    "        u_wind1 = Winds[0][0][WindClass.lvls[lvl]].data(llat, ulat, llon, rlon)[0][QueryIdx1]\n",
    "        v_wind1 = Winds[0][1][WindClass.lvls[lvl]].data(llat, ulat, llon, rlon)[0][QueryIdx1]\n",
    "        try:\n",
    "            QueryIdx2 = Tree_Dict[lvl+25].query(Grid)[1]   # lower levels\n",
    "            u_wind2 = Winds[0][0][WindClass.lvls[lvl+25]].data(llat, ulat, llon, rlon)[0][QueryIdx2]\n",
    "            v_wind2 = Winds[0][1][WindClass.lvls[lvl+25]].data(llat, ulat, llon, rlon)[0][QueryIdx2]\n",
    "        except:\n",
    "            u_wind2 = u_wind1\n",
    "            v_wind2 = v_wind1\n",
    "        try:\n",
    "            QueryIdx3 = Tree_Dict[lvl-25].query(Grid)[1]   # higher levels\n",
    "            u_wind3 = Winds[0][0][WindClass.lvls[lvl-25]].data(llat, ulat, llon, rlon)[0][QueryIdx3]\n",
    "            v_wind3 = Winds[0][1][WindClass.lvls[lvl-25]].data(llat, ulat, llon, rlon)[0][QueryIdx3]\n",
    "        except:\n",
    "            u_wind3 = u_wind1\n",
    "            v_wind3 = v_wind1\n",
    "    except:\n",
    "        return \n",
    "    \n",
    "    Wind_Cube = np.dstack((u_wind3.reshape(20,20), v_wind3.reshape(20,20), \n",
    "                           u_wind1.reshape(20,20), v_wind1.reshape(20,20), \n",
    "                           u_wind2.reshape(20,20), v_wind2.reshape(20,20)))\n",
    "    return Wind_Cube"
   ]
  },
  {
   "cell_type": "code",
   "execution_count": 6,
   "metadata": {},
   "outputs": [
    {
     "data": {
      "text/plain": [
       "(400, 2)"
      ]
     },
     "execution_count": 6,
     "metadata": {},
     "output_type": "execute_result"
    }
   ],
   "source": [
    "CreateGrid(-90, 25)"
   ]
  },
  {
   "cell_type": "code",
   "execution_count": null,
   "metadata": {},
   "outputs": [],
   "source": []
  },
  {
   "cell_type": "code",
   "execution_count": null,
   "metadata": {},
   "outputs": [],
   "source": []
  },
  {
   "cell_type": "code",
   "execution_count": null,
   "metadata": {},
   "outputs": [],
   "source": []
  },
  {
   "cell_type": "code",
   "execution_count": null,
   "metadata": {},
   "outputs": [],
   "source": []
  },
  {
   "cell_type": "code",
   "execution_count": null,
   "metadata": {},
   "outputs": [],
   "source": []
  },
  {
   "cell_type": "code",
   "execution_count": 48,
   "metadata": {},
   "outputs": [
    {
     "name": "stdout",
     "output_type": "stream",
     "text": [
      "0.6161456108093262\n"
     ]
    }
   ],
   "source": [
    "st = time.time()\n",
    "grbs = pygrib.open('../../filtered_weather_data/namanl/namanl_218_20130104_0000_003.grb')\n",
    "uin = grbs.select(shortName='u', typeOfLevel='isobaricInhPa', level = lambda l: l >= 150 and l <= 1000)\n",
    "vin = grbs.select(shortName='v', typeOfLevel='isobaricInhPa', level = lambda l: l >= 150 and l <= 1000)\n",
    "# testU = grbs.select(shortName='v', typeOfLevel='pressureFromGroundLayer')\n",
    "# for i in range(grbs.messages):\n",
    "#     print(grbs.message(i+1))\n",
    "grbs.close()\n",
    "winds = [(uin, vin)]\n",
    "print(time.time() - st)"
   ]
  },
  {
   "cell_type": "code",
   "execution_count": 3,
   "metadata": {},
   "outputs": [],
   "source": [
    "a = winds[0][0][0].data()"
   ]
  },
  {
   "cell_type": "code",
   "execution_count": 12,
   "metadata": {},
   "outputs": [],
   "source": [
    "np.save('test.npy', a)"
   ]
  },
  {
   "cell_type": "code",
   "execution_count": null,
   "metadata": {},
   "outputs": [],
   "source": []
  },
  {
   "cell_type": "markdown",
   "metadata": {},
   "source": [
    "## Test load from zip"
   ]
  },
  {
   "cell_type": "code",
   "execution_count": 17,
   "metadata": {},
   "outputs": [],
   "source": [
    "import zipfile\n",
    "import io\n",
    "import time\n",
    "import os\n",
    "import shutil"
   ]
  },
  {
   "cell_type": "code",
   "execution_count": 53,
   "metadata": {},
   "outputs": [
    {
     "data": {
      "text/plain": [
       "'namanl_218_20130101_0000_003.grb'"
      ]
     },
     "execution_count": 53,
     "metadata": {},
     "output_type": "execute_result"
    }
   ],
   "source": [
    "namelist[2][7:]"
   ]
  },
  {
   "cell_type": "code",
   "execution_count": 6,
   "metadata": {},
   "outputs": [],
   "source": [
    "zwind = zipfile.ZipFile('../../filtered_weather_data/namanl/namanl.zip', mode = 'r')\n",
    "namelist = zwind.namelist()"
   ]
  },
  {
   "cell_type": "code",
   "execution_count": 64,
   "metadata": {},
   "outputs": [],
   "source": [
    "tmp = io.BytesIO(zwind.open(name = namelist[1]).read())\n",
    "tmp2 = io.StringIO(namelist[1])\n",
    "\n",
    "tmp_bytes = zwind.open(name = namelist[1]).read()"
   ]
  },
  {
   "cell_type": "code",
   "execution_count": null,
   "metadata": {},
   "outputs": [],
   "source": [
    "grbs = pygrib.open('../../filtered_weather_data/namanl/namanl.zip/')"
   ]
  },
  {
   "cell_type": "code",
   "execution_count": 16,
   "metadata": {},
   "outputs": [
    {
     "data": {
      "text/plain": [
       "31347210"
      ]
     },
     "execution_count": 16,
     "metadata": {},
     "output_type": "execute_result"
    }
   ],
   "source": [
    "len(tmp_bytes)"
   ]
  },
  {
   "cell_type": "code",
   "execution_count": 60,
   "metadata": {},
   "outputs": [
    {
     "name": "stdout",
     "output_type": "stream",
     "text": [
      "0.291705846786499\n"
     ]
    }
   ],
   "source": [
    "st = time.time()\n",
    "zwind.extract(member=namelist[50], path='../weather/namanl')\n",
    "shutil.rmtree(path = '../weather/namanl/')\n",
    "print(time.time() - st)"
   ]
  },
  {
   "cell_type": "code",
   "execution_count": null,
   "metadata": {},
   "outputs": [],
   "source": []
  },
  {
   "cell_type": "code",
   "execution_count": null,
   "metadata": {},
   "outputs": [],
   "source": []
  },
  {
   "cell_type": "code",
   "execution_count": null,
   "metadata": {},
   "outputs": [],
   "source": [
    "zwind.close()"
   ]
  },
  {
   "cell_type": "code",
   "execution_count": null,
   "metadata": {},
   "outputs": [],
   "source": []
  },
  {
   "cell_type": "code",
   "execution_count": null,
   "metadata": {},
   "outputs": [],
   "source": []
  },
  {
   "cell_type": "code",
   "execution_count": null,
   "metadata": {},
   "outputs": [],
   "source": []
  },
  {
   "cell_type": "code",
   "execution_count": null,
   "metadata": {},
   "outputs": [],
   "source": []
  }
 ],
 "metadata": {
  "kernelspec": {
   "display_name": "Python 3",
   "language": "python",
   "name": "python3"
  },
  "language_info": {
   "codemirror_mode": {
    "name": "ipython",
    "version": 3
   },
   "file_extension": ".py",
   "mimetype": "text/x-python",
   "name": "python",
   "nbconvert_exporter": "python",
   "pygments_lexer": "ipython3",
   "version": "3.5.5"
  }
 },
 "nbformat": 4,
 "nbformat_minor": 2
}
